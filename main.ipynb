{
 "cells": [
  {
   "cell_type": "code",
   "execution_count": null,
   "id": "cb0ff7f2",
   "metadata": {},
   "outputs": [],
   "source": [
    "from youtube_analyzer.yt_comment_analysis import YouTubeCommentAnalyzer\n",
    "analyzer = YouTubeCommentAnalyzer()"
   ]
  },
  {
   "cell_type": "code",
   "execution_count": null,
   "id": "02e107b2",
   "metadata": {},
   "outputs": [],
   "source": [
    "analyzer.analyze_video(\"jrgOiiE3VT8\")\n",
    "analyzer.analyze_channel(\"@SapphireDragon9189\")"
   ]
  },
  {
   "cell_type": "code",
   "execution_count": null,
   "id": "393640ae",
   "metadata": {},
   "outputs": [],
   "source": [
    "from storage.sqlite_storage import SQLiteStorage\n",
    "db = SQLiteStorage()"
   ]
  },
  {
   "cell_type": "code",
   "execution_count": null,
   "id": "7ac7aa29",
   "metadata": {},
   "outputs": [],
   "source": [
    "comments_df = db.table_to_df(\"youtube_comments\")\n",
    "comments_df.head()"
   ]
  },
  {
   "cell_type": "code",
   "execution_count": null,
   "id": "91715c31",
   "metadata": {},
   "outputs": [],
   "source": [
    "videos_df = db.table_to_df(\"youtube_videos\")\n",
    "videos_df.head()"
   ]
  },
  {
   "cell_type": "code",
   "execution_count": null,
   "id": "b0b83a54",
   "metadata": {},
   "outputs": [],
   "source": [
    "channels_df = db.table_to_df(\"youtube_channels\")\n",
    "channels_df.head()"
   ]
  },
  {
   "cell_type": "code",
   "execution_count": null,
   "id": "76fe2ffd",
   "metadata": {},
   "outputs": [],
   "source": [
    "sentiments_df = db.table_to_df(\"sentiments\")\n",
    "sentiments_df.head()"
   ]
  },
  {
   "cell_type": "code",
   "execution_count": null,
   "id": "0000fd98",
   "metadata": {},
   "outputs": [],
   "source": [
    "import pandas as pd\n",
    "merged_df = pd.merge(comments_df, sentiments_df, on='comment_id')\n",
    "merged_df.head()"
   ]
  },
  {
   "cell_type": "code",
   "execution_count": null,
   "id": "1e3ee37c",
   "metadata": {},
   "outputs": [],
   "source": []
  }
 ],
 "metadata": {
  "kernelspec": {
   "display_name": ".venv",
   "language": "python",
   "name": "python3"
  },
  "language_info": {
   "codemirror_mode": {
    "name": "ipython",
    "version": 3
   },
   "file_extension": ".py",
   "mimetype": "text/x-python",
   "name": "python",
   "nbconvert_exporter": "python",
   "pygments_lexer": "ipython3",
   "version": "3.13.3"
  }
 },
 "nbformat": 4,
 "nbformat_minor": 5
}
